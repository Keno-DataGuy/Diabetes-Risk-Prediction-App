{
 "cells": [
  {
   "cell_type": "markdown",
   "id": "6ea353aa",
   "metadata": {},
   "source": [
    "### Early Stage Diabetes Risk Prediction"
   ]
  },
  {
   "cell_type": "markdown",
   "id": "e91e863f",
   "metadata": {},
   "source": [
    "Diabetes is one of the fastest growing chronic life threatening diseases that have already affected 422 million people worldwide according to the report of World Health Organization (WHO), in 2018.\n",
    "\n",
    "To predict the likelihood of having diabetes requires a dataset, which contains the data of patients who are at risk of diabetes and not at risk. We will utilise a dataset obtained from the UCI machine learning repository which contains 520 instances collected using direct quastionnaires from the patients of Sylhet Diabetes Hospital in Bangladesh. https://doi.org/10.1007/978-981-13-8798-2_12"
   ]
  },
  {
   "cell_type": "markdown",
   "id": "b119c2d1",
   "metadata": {},
   "source": [
    "#### Import the necessary library"
   ]
  },
  {
   "cell_type": "code",
   "execution_count": 3,
   "id": "043dd1e0",
   "metadata": {},
   "outputs": [],
   "source": [
    "import pandas as pd\n",
    "import pickle\n",
    "import matplotlib.pyplot as plt\n",
    "import numpy as np\n",
    "from sklearn.model_selection import train_test_split"
   ]
  },
  {
   "cell_type": "markdown",
   "id": "a021d5d8",
   "metadata": {},
   "source": [
    "#### Data loading"
   ]
  },
  {
   "cell_type": "markdown",
   "id": "8517e55b",
   "metadata": {},
   "source": [
    "Data Dictionary\n",
    "\n",
    "The fields contain data gotten from each participant\n",
    "\n",
    "Age - ages of participants (20 - 65)          \n",
    "Gender - gender of the participants\n",
    "Polyuria - the passage of large volumes of urine with an increase in urinary frequency (Yes, No)\n",
    "\n",
    "Polydipsia - excessive thirst (Yes, No)        \n",
    "sudden weight loss - (Yes, No)\n",
    "weakness - (Yes, No) \n",
    "Polyphagia - consumption of excessive amounts of food (Yes, No)  \n",
    "Genital thrush - common yeast infection (Yes, No)\n",
    "visual blurring - (Yes, No)\n",
    "Itching - (Yes, No)      \n",
    "Irritability - (Yes, No)\n",
    "delayed healing - (Yes, No)\n",
    "partial paresis - partial weakening of a muscle or group of muscles (Yes, No)\n",
    "muscle stiffness - (Yes, No)\n",
    "Alopecia - hair loss (Yes, No)   \n",
    "Obesity - (Yes, No)      \n",
    "class - Positive, Negative \n"
   ]
  },
  {
   "cell_type": "code",
   "execution_count": 4,
   "id": "2b9333da",
   "metadata": {},
   "outputs": [],
   "source": [
    "df = pd.read_csv('diabetes_data_upload.csv')"
   ]
  },
  {
   "cell_type": "code",
   "execution_count": 5,
   "id": "c539d637",
   "metadata": {},
   "outputs": [
    {
     "name": "stdout",
     "output_type": "stream",
     "text": [
      "Age                      int64\n",
      "Gender                category\n",
      "Polyuria              category\n",
      "Polydipsia            category\n",
      "sudden weight loss    category\n",
      "weakness              category\n",
      "Polyphagia            category\n",
      "Genital thrush        category\n",
      "visual blurring       category\n",
      "Itching               category\n",
      "Irritability          category\n",
      "delayed healing       category\n",
      "partial paresis       category\n",
      "muscle stiffness      category\n",
      "Alopecia              category\n",
      "Obesity               category\n",
      "class                 category\n",
      "dtype: object\n"
     ]
    }
   ],
   "source": [
    "# explicit conersion of objects to categorical data type\n",
    "\n",
    "# Get the column names with object data type\n",
    "object_columns = df.select_dtypes(include='object').columns\n",
    "\n",
    "# Convert the columns to categorical\n",
    "df[object_columns] = df[object_columns].astype('category')\n",
    "\n",
    "print(df.dtypes)\n"
   ]
  },
  {
   "cell_type": "code",
   "execution_count": 6,
   "id": "e4e9f7aa",
   "metadata": {},
   "outputs": [
    {
     "data": {
      "text/plain": [
       "Index(['Age', 'Gender', 'Polyuria', 'Polydipsia', 'sudden weight loss',\n",
       "       'weakness', 'Polyphagia', 'Genital thrush', 'visual blurring',\n",
       "       'Itching', 'Irritability', 'delayed healing', 'partial paresis',\n",
       "       'muscle stiffness', 'Alopecia', 'Obesity', 'class'],\n",
       "      dtype='object')"
      ]
     },
     "execution_count": 6,
     "metadata": {},
     "output_type": "execute_result"
    }
   ],
   "source": [
    "df.columns"
   ]
  },
  {
   "cell_type": "code",
   "execution_count": 7,
   "id": "92f5bf47",
   "metadata": {},
   "outputs": [
    {
     "data": {
      "text/plain": [
       "(520, 17)"
      ]
     },
     "execution_count": 7,
     "metadata": {},
     "output_type": "execute_result"
    }
   ],
   "source": [
    "df.shape"
   ]
  },
  {
   "cell_type": "markdown",
   "id": "16c8326c",
   "metadata": {},
   "source": [
    "#### Data Exploration"
   ]
  },
  {
   "cell_type": "markdown",
   "id": "960166af",
   "metadata": {},
   "source": [
    "First, we just have a quick glance of the distributions across some fields"
   ]
  },
  {
   "cell_type": "code",
   "execution_count": 8,
   "id": "769096f5",
   "metadata": {},
   "outputs": [
    {
     "data": {
      "image/png": "[encoded data removed]",
      "text/plain": [
       "<Figure size 576x432 with 4 Axes>"
      ]
     },
     "metadata": {
      "needs_background": "light"
     },
     "output_type": "display_data"
    }
   ],
   "source": [
    "fig = plt.figure(figsize = [8, 6])\n",
    "\n",
    "fig.tight_layout()\n",
    "\n",
    "# distribution of age\n",
    "plt.subplot(2, 2, 1)\n",
    "plt.hist(df['Age'])\n",
    "plt.title('Distribution of Age')\n",
    "plt.grid(which='major', linestyle=':', linewidth='0.5')\n",
    "\n",
    "# frequency of gender \n",
    "gen_counts = df['Gender'].value_counts()\n",
    "\n",
    "plt.subplot(2, 2, 2)\n",
    "plt.bar(gen_counts.index, gen_counts.values)\n",
    "plt.title('Frequency of Gender')\n",
    "\n",
    "# frequency of obesity \n",
    "ob_counts = df['Obesity'].value_counts()\n",
    "\n",
    "plt.subplot(2, 2, 3)\n",
    "plt.bar(ob_counts.index, ob_counts.values)\n",
    "plt.title('Frequency of Obesity')\n",
    "\n",
    "# frequency of delayed healing symptoms \n",
    "dh_counts = df['delayed healing'].value_counts()\n",
    "\n",
    "plt.subplot(2, 2, 4)\n",
    "plt.bar(dh_counts.index, dh_counts.values)\n",
    "plt.title('Frequency of delayed healing')\n",
    "\n",
    "\n",
    "\n",
    "plt.subplots_adjust(bottom = 0.01)\n",
    "plt.show()"
   ]
  },
  {
   "cell_type": "markdown",
   "id": "37bba673",
   "metadata": {},
   "source": [
    "From the visuals above, we can observe that the ages is normally distributed across the dataset (with majority of the participants being between 20 to 80). There are more male participants, a small amount of the participants are obese, and quite a number seems to be experience delayed healing."
   ]
  },
  {
   "cell_type": "code",
   "execution_count": 9,
   "id": "41b82bee",
   "metadata": {},
   "outputs": [
    {
     "data": {
      "text/plain": [
       "Male      328\n",
       "Female    192\n",
       "Name: Gender, dtype: int64"
      ]
     },
     "execution_count": 9,
     "metadata": {},
     "output_type": "execute_result"
    }
   ],
   "source": [
    "df['Gender'].value_counts()"
   ]
  },
  {
   "cell_type": "code",
   "execution_count": 10,
   "id": "7c373986",
   "metadata": {},
   "outputs": [
    {
     "name": "stdout",
     "output_type": "stream",
     "text": [
      "class            Negative  Positive\n",
      "delayed healing                    \n",
      "No                    114       167\n",
      "Yes                    86       153\n"
     ]
    }
   ],
   "source": [
    "# cross-tabulation\n",
    "cross_tab = pd.crosstab(df['delayed healing'], df['class'])\n",
    "\n",
    "# display results\n",
    "print(cross_tab)"
   ]
  },
  {
   "cell_type": "markdown",
   "id": "10499eb2",
   "metadata": {},
   "source": [
    "A significant amount of participants who experience delayed healing were positive as newly diabetics. And the number of participants who do not experience delayed healing was quite shared across the positive and negative classes."
   ]
  },
  {
   "cell_type": "code",
   "execution_count": 11,
   "id": "5b204e6f",
   "metadata": {},
   "outputs": [
    {
     "name": "stdout",
     "output_type": "stream",
     "text": [
      "class            Negative  Positive\n",
      "delayed healing                    \n",
      "No                    114       167\n",
      "Yes                    86       153\n"
     ]
    }
   ],
   "source": [
    "# cross-tabulation\n",
    "cross_tab1 = pd.crosstab(df['Obesity'], df['class'])\n",
    "\n",
    "# display results\n",
    "print(cross_tab)"
   ]
  },
  {
   "cell_type": "markdown",
   "id": "e74498b5",
   "metadata": {},
   "source": [
    "A higher amount of the participants who were obese were positive for diabetes."
   ]
  },
  {
   "cell_type": "markdown",
   "id": "7d5187d2",
   "metadata": {},
   "source": [
    "#### Data Preprocessing"
   ]
  },
  {
   "cell_type": "markdown",
   "id": "71efc2ff",
   "metadata": {},
   "source": [
    "As most machine learning algorithms work with numerical data. By one-hot encoding categorical variables, we transform them into a numerical representation that can be easily understood by these algorithms.\n",
    "\n",
    "one-hot encoding is a crucial preprocessing step to convert categorical variables into a suitable format for machine learning algorithms. It enables the algorithms to effectively learn from categorical data and make accurate predictions or classifications."
   ]
  },
  {
   "cell_type": "code",
   "execution_count": 12,
   "id": "7fa5821e",
   "metadata": {},
   "outputs": [],
   "source": [
    "# Get the column names with object data type\n",
    "cat_columns = df.select_dtypes(include='category').columns\n",
    "\n",
    "# extract categorical data as a dataframe\n",
    "X_categorical = df[cat_columns]"
   ]
  },
  {
   "cell_type": "code",
   "execution_count": 13,
   "id": "42fa1554",
   "metadata": {},
   "outputs": [],
   "source": [
    "# Perform one-hot encoding using get_dummies()\n",
    "df_encoded = pd.get_dummies(df, columns=cat_columns)\n",
    "\n",
    "# Print the encoded DataFrame\n",
    "# print(df_encoded)"
   ]
  },
  {
   "cell_type": "markdown",
   "id": "d2923159",
   "metadata": {},
   "source": [
    "##### Saving the one-hot encoding mapping as a file"
   ]
  },
  {
   "cell_type": "code",
   "execution_count": 14,
   "id": "c42227f9",
   "metadata": {},
   "outputs": [],
   "source": [
    "with open('pre-process.pkl', 'wb') as file:\n",
    "    pickle.dump(df_encoded, file)"
   ]
  },
  {
   "cell_type": "code",
   "execution_count": 15,
   "id": "70a64459",
   "metadata": {},
   "outputs": [
    {
     "data": {
      "text/html": [
       "<div>\n",
       "<style scoped>\n",
       "    .dataframe tbody tr th:only-of-type {\n",
       "        vertical-align: middle;\n",
       "    }\n",
       "\n",
       "    .dataframe tbody tr th {\n",
       "        vertical-align: top;\n",
       "    }\n",
       "\n",
       "    .dataframe thead th {\n",
       "        text-align: right;\n",
       "    }\n",
       "</style>\n",
       "<table border=\"1\" class=\"dataframe\">\n",
       "  <thead>\n",
       "    <tr style=\"text-align: right;\">\n",
       "      <th></th>\n",
       "      <th>Age</th>\n",
       "      <th>Gender_Female</th>\n",
       "      <th>Gender_Male</th>\n",
       "      <th>Polyuria_No</th>\n",
       "      <th>Polyuria_Yes</th>\n",
       "      <th>Polydipsia_No</th>\n",
       "      <th>Polydipsia_Yes</th>\n",
       "      <th>sudden weight loss_No</th>\n",
       "      <th>sudden weight loss_Yes</th>\n",
       "      <th>weakness_No</th>\n",
       "      <th>...</th>\n",
       "      <th>partial paresis_No</th>\n",
       "      <th>partial paresis_Yes</th>\n",
       "      <th>muscle stiffness_No</th>\n",
       "      <th>muscle stiffness_Yes</th>\n",
       "      <th>Alopecia_No</th>\n",
       "      <th>Alopecia_Yes</th>\n",
       "      <th>Obesity_No</th>\n",
       "      <th>Obesity_Yes</th>\n",
       "      <th>class_Negative</th>\n",
       "      <th>class_Positive</th>\n",
       "    </tr>\n",
       "  </thead>\n",
       "  <tbody>\n",
       "    <tr>\n",
       "      <th>0</th>\n",
       "      <td>40</td>\n",
       "      <td>0</td>\n",
       "      <td>1</td>\n",
       "      <td>1</td>\n",
       "      <td>0</td>\n",
       "      <td>0</td>\n",
       "      <td>1</td>\n",
       "      <td>1</td>\n",
       "      <td>0</td>\n",
       "      <td>0</td>\n",
       "      <td>...</td>\n",
       "      <td>1</td>\n",
       "      <td>0</td>\n",
       "      <td>0</td>\n",
       "      <td>1</td>\n",
       "      <td>0</td>\n",
       "      <td>1</td>\n",
       "      <td>0</td>\n",
       "      <td>1</td>\n",
       "      <td>0</td>\n",
       "      <td>1</td>\n",
       "    </tr>\n",
       "    <tr>\n",
       "      <th>1</th>\n",
       "      <td>58</td>\n",
       "      <td>0</td>\n",
       "      <td>1</td>\n",
       "      <td>1</td>\n",
       "      <td>0</td>\n",
       "      <td>1</td>\n",
       "      <td>0</td>\n",
       "      <td>1</td>\n",
       "      <td>0</td>\n",
       "      <td>0</td>\n",
       "      <td>...</td>\n",
       "      <td>0</td>\n",
       "      <td>1</td>\n",
       "      <td>1</td>\n",
       "      <td>0</td>\n",
       "      <td>0</td>\n",
       "      <td>1</td>\n",
       "      <td>1</td>\n",
       "      <td>0</td>\n",
       "      <td>0</td>\n",
       "      <td>1</td>\n",
       "    </tr>\n",
       "    <tr>\n",
       "      <th>2</th>\n",
       "      <td>41</td>\n",
       "      <td>0</td>\n",
       "      <td>1</td>\n",
       "      <td>0</td>\n",
       "      <td>1</td>\n",
       "      <td>1</td>\n",
       "      <td>0</td>\n",
       "      <td>1</td>\n",
       "      <td>0</td>\n",
       "      <td>0</td>\n",
       "      <td>...</td>\n",
       "      <td>1</td>\n",
       "      <td>0</td>\n",
       "      <td>0</td>\n",
       "      <td>1</td>\n",
       "      <td>0</td>\n",
       "      <td>1</td>\n",
       "      <td>1</td>\n",
       "      <td>0</td>\n",
       "      <td>0</td>\n",
       "      <td>1</td>\n",
       "    </tr>\n",
       "    <tr>\n",
       "      <th>3</th>\n",
       "      <td>45</td>\n",
       "      <td>0</td>\n",
       "      <td>1</td>\n",
       "      <td>1</td>\n",
       "      <td>0</td>\n",
       "      <td>1</td>\n",
       "      <td>0</td>\n",
       "      <td>0</td>\n",
       "      <td>1</td>\n",
       "      <td>0</td>\n",
       "      <td>...</td>\n",
       "      <td>1</td>\n",
       "      <td>0</td>\n",
       "      <td>1</td>\n",
       "      <td>0</td>\n",
       "      <td>1</td>\n",
       "      <td>0</td>\n",
       "      <td>1</td>\n",
       "      <td>0</td>\n",
       "      <td>0</td>\n",
       "      <td>1</td>\n",
       "    </tr>\n",
       "    <tr>\n",
       "      <th>4</th>\n",
       "      <td>60</td>\n",
       "      <td>0</td>\n",
       "      <td>1</td>\n",
       "      <td>0</td>\n",
       "      <td>1</td>\n",
       "      <td>0</td>\n",
       "      <td>1</td>\n",
       "      <td>0</td>\n",
       "      <td>1</td>\n",
       "      <td>0</td>\n",
       "      <td>...</td>\n",
       "      <td>0</td>\n",
       "      <td>1</td>\n",
       "      <td>0</td>\n",
       "      <td>1</td>\n",
       "      <td>0</td>\n",
       "      <td>1</td>\n",
       "      <td>0</td>\n",
       "      <td>1</td>\n",
       "      <td>0</td>\n",
       "      <td>1</td>\n",
       "    </tr>\n",
       "  </tbody>\n",
       "</table>\n",
       "<p>5 rows × 33 columns</p>\n",
       "</div>"
      ],
      "text/plain": [
       "   Age  Gender_Female  Gender_Male  Polyuria_No  Polyuria_Yes  Polydipsia_No  \\\n",
       "0   40              0            1            1             0              0   \n",
       "1   58              0            1            1             0              1   \n",
       "2   41              0            1            0             1              1   \n",
       "3   45              0            1            1             0              1   \n",
       "4   60              0            1            0             1              0   \n",
       "\n",
       "   Polydipsia_Yes  sudden weight loss_No  sudden weight loss_Yes  weakness_No  \\\n",
       "0               1                      1                       0            0   \n",
       "1               0                      1                       0            0   \n",
       "2               0                      1                       0            0   \n",
       "3               0                      0                       1            0   \n",
       "4               1                      0                       1            0   \n",
       "\n",
       "   ...  partial paresis_No  partial paresis_Yes  muscle stiffness_No  \\\n",
       "0  ...                   1                    0                    0   \n",
       "1  ...                   0                    1                    1   \n",
       "2  ...                   1                    0                    0   \n",
       "3  ...                   1                    0                    1   \n",
       "4  ...                   0                    1                    0   \n",
       "\n",
       "   muscle stiffness_Yes  Alopecia_No  Alopecia_Yes  Obesity_No  Obesity_Yes  \\\n",
       "0                     1            0             1           0            1   \n",
       "1                     0            0             1           1            0   \n",
       "2                     1            0             1           1            0   \n",
       "3                     0            1             0           1            0   \n",
       "4                     1            0             1           0            1   \n",
       "\n",
       "   class_Negative  class_Positive  \n",
       "0               0               1  \n",
       "1               0               1  \n",
       "2               0               1  \n",
       "3               0               1  \n",
       "4               0               1  \n",
       "\n",
       "[5 rows x 33 columns]"
      ]
     },
     "execution_count": 15,
     "metadata": {},
     "output_type": "execute_result"
    }
   ],
   "source": [
    "df_encoded.head()"
   ]
  },
  {
   "cell_type": "markdown",
   "id": "ed26c628",
   "metadata": {},
   "source": [
    "#### Train and test split"
   ]
  },
  {
   "cell_type": "code",
   "execution_count": 16,
   "id": "e36e0dbb",
   "metadata": {},
   "outputs": [],
   "source": [
    "# Separate the features (X) and the target variable (y)\n",
    "x1 = df_encoded.drop('class_Negative', axis='columns')\n",
    "X = x1.drop('class_Positive', axis='columns')\n",
    "y = df_encoded['class_Positive']"
   ]
  },
  {
   "cell_type": "code",
   "execution_count": 17,
   "id": "783a21fa",
   "metadata": {},
   "outputs": [],
   "source": [
    "# Perform the train-test split\n",
    "X_train, X_test, y_train, y_test = train_test_split(X, y, test_size=0.3, \n",
    "                                                    random_state=123, shuffle=True, stratify=y)"
   ]
  },
  {
   "cell_type": "code",
   "execution_count": 18,
   "id": "1159ea67",
   "metadata": {},
   "outputs": [
    {
     "data": {
      "text/plain": [
       "(364, 31)"
      ]
     },
     "execution_count": 18,
     "metadata": {},
     "output_type": "execute_result"
    }
   ],
   "source": [
    "X_train.shape"
   ]
  },
  {
   "cell_type": "markdown",
   "id": "5f16fa2c",
   "metadata": {},
   "source": [
    "### Model training"
   ]
  },
  {
   "cell_type": "markdown",
   "id": "1b0fd014",
   "metadata": {},
   "source": [
    "#### Random forest prediction"
   ]
  },
  {
   "cell_type": "code",
   "execution_count": 19,
   "id": "9cd37de6",
   "metadata": {},
   "outputs": [],
   "source": [
    "from sklearn.ensemble import RandomForestClassifier\n",
    "\n",
    "clf = RandomForestClassifier(n_estimators=100)"
   ]
  },
  {
   "cell_type": "code",
   "execution_count": 20,
   "id": "24b79b41",
   "metadata": {},
   "outputs": [
    {
     "data": {
      "text/plain": [
       "RandomForestClassifier()"
      ]
     },
     "execution_count": 20,
     "metadata": {},
     "output_type": "execute_result"
    }
   ],
   "source": [
    "clf.fit(X_train, y_train)"
   ]
  },
  {
   "cell_type": "code",
   "execution_count": 21,
   "id": "bebba6e6",
   "metadata": {},
   "outputs": [],
   "source": [
    "y_pred_rf = clf.predict(X_test)"
   ]
  },
  {
   "cell_type": "code",
   "execution_count": 22,
   "id": "20cdeb90",
   "metadata": {},
   "outputs": [
    {
     "name": "stdout",
     "output_type": "stream",
     "text": [
      "Accuracy (RF):  0.9551282051282052\n"
     ]
    }
   ],
   "source": [
    "# evaluation metrics (accuracy of prediction)\n",
    "from sklearn.metrics import accuracy_score\n",
    "\n",
    "print('Accuracy (RF): ',accuracy_score(y_test, y_pred_rf))"
   ]
  },
  {
   "cell_type": "code",
   "execution_count": 23,
   "id": "c293a008",
   "metadata": {},
   "outputs": [
    {
     "data": {
      "image/png": "[encoded data removed]",
      "text/plain": [
       "<Figure size 432x288 with 2 Axes>"
      ]
     },
     "metadata": {
      "needs_background": "light"
     },
     "output_type": "display_data"
    }
   ],
   "source": [
    "# confusion matrix\n",
    "from sklearn.metrics import confusion_matrix, ConfusionMatrixDisplay\n",
    "\n",
    "disp_rf = ConfusionMatrixDisplay(confusion_matrix(y_test, y_pred_rf), \n",
    "                              display_labels= ['Negative', 'Positive'])\n",
    "disp_rf.plot()\n",
    "plt.show()"
   ]
  },
  {
   "cell_type": "code",
   "execution_count": 24,
   "id": "677a04b4",
   "metadata": {},
   "outputs": [
    {
     "name": "stdout",
     "output_type": "stream",
     "text": [
      "Precision (RF):  0.978494623655914\n",
      "Recall (RF):  0.9479166666666666\n"
     ]
    }
   ],
   "source": [
    "# confusion matrix\n",
    "from sklearn.metrics import precision_score, recall_score\n",
    "\n",
    "# evaluation metrics (accuracy of prediction)\n",
    "from sklearn.metrics import accuracy_score\n",
    "\n",
    "print('Precision (RF): ',precision_score(y_test, y_pred_rf))\n",
    "\n",
    "print('Recall (RF): ',recall_score(y_test, y_pred_rf))"
   ]
  },
  {
   "cell_type": "markdown",
   "id": "bd505b1d",
   "metadata": {},
   "source": [
    "#### Support vector machine classifier"
   ]
  },
  {
   "cell_type": "code",
   "execution_count": 25,
   "id": "39677033",
   "metadata": {},
   "outputs": [],
   "source": [
    "from sklearn import svm\n",
    "\n",
    "clf_svm = svm.SVC(kernel='linear', C=1).fit(X_train, y_train)"
   ]
  },
  {
   "cell_type": "code",
   "execution_count": 26,
   "id": "1270c327",
   "metadata": {},
   "outputs": [],
   "source": [
    "y_pred_svm = clf_svm.predict(X_test)"
   ]
  },
  {
   "cell_type": "code",
   "execution_count": 27,
   "id": "bd10e843",
   "metadata": {},
   "outputs": [
    {
     "name": "stdout",
     "output_type": "stream",
     "text": [
      "Accuracy (SVM):  0.9102564102564102\n"
     ]
    }
   ],
   "source": [
    "# evaluation metrics (accuracy of prediction)\n",
    "print('Accuracy (SVM): ',accuracy_score(y_test, y_pred_svm))"
   ]
  },
  {
   "cell_type": "code",
   "execution_count": 28,
   "id": "3d3194e0",
   "metadata": {},
   "outputs": [
    {
     "data": {
      "image/png": "[encoded data removed]",
      "text/plain": [
       "<Figure size 432x288 with 2 Axes>"
      ]
     },
     "metadata": {
      "needs_background": "light"
     },
     "output_type": "display_data"
    }
   ],
   "source": [
    "# confusion matrix\n",
    "from sklearn.metrics import confusion_matrix, ConfusionMatrixDisplay\n",
    "\n",
    "disp_svm = ConfusionMatrixDisplay(confusion_matrix(y_test, y_pred_svm), \n",
    "                              display_labels= ['Negative', 'Positive'])\n",
    "disp_svm.plot()\n",
    "plt.show()"
   ]
  },
  {
   "cell_type": "markdown",
   "id": "8d1ad971",
   "metadata": {},
   "source": [
    "#### Summary"
   ]
  },
  {
   "cell_type": "markdown",
   "id": "de37cea6",
   "metadata": {},
   "source": [
    "Random forest gives us a better accuracy for this prediction task hence it is the model we take to be the best for this case and we will use this random forest for deployment."
   ]
  },
  {
   "cell_type": "markdown",
   "id": "df9ff760",
   "metadata": {},
   "source": [
    "#### Saving the trained model"
   ]
  },
  {
   "cell_type": "code",
   "execution_count": 29,
   "id": "be166dcf",
   "metadata": {},
   "outputs": [],
   "source": [
    "with open('model.pkl', 'wb') as file:\n",
    "    pickle.dump(clf, file)"
   ]
  },
  {
   "cell_type": "code",
   "execution_count": null,
   "id": "0d028024",
   "metadata": {},
   "outputs": [],
   "source": []
  },
  {
   "cell_type": "code",
   "execution_count": null,
   "id": "c5351c89",
   "metadata": {},
   "outputs": [],
   "source": []
  },
  {
   "cell_type": "code",
   "execution_count": null,
   "id": "50d026e0",
   "metadata": {},
   "outputs": [],
   "source": []
  }
 ],
 "metadata": {
  "kernelspec": {
   "display_name": "Python 3 (ipykernel)",
   "language": "python",
   "name": "python3"
  },
  "language_info": {
   "codemirror_mode": {
    "name": "ipython",
    "version": 3
   },
   "file_extension": ".py",
   "mimetype": "text/x-python",
   "name": "python",
   "nbconvert_exporter": "python",
   "pygments_lexer": "ipython3",
   "version": "3.9.12"
  }
 },
 "nbformat": 4,
 "nbformat_minor": 5
}
